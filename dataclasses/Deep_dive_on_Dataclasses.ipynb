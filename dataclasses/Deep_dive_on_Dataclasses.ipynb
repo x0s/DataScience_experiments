{
 "cells": [
  {
   "cell_type": "markdown",
   "metadata": {
    "cell_style": "center"
   },
   "source": [
    "# Deep dive on Dataclasses\n",
    "_Guillaume Fidanza_"
   ]
  },
  {
   "cell_type": "markdown",
   "metadata": {},
   "source": [
    "The current notebook reviews one of the new features of python 3.7: the **DataClasses**\n",
    "\n",
    "Keywords: _dataclasses, typing, python 3.7, side-effects, code inspection, inheritance, immutability_\n",
    "\n",
    "---\n",
    "\n",
    "This notebook was correctly run on the following configuration:"
   ]
  },
  {
   "cell_type": "raw",
   "metadata": {},
   "source": [
    "The version of the notebook server is 5.0.0\n",
    "\n",
    "Current Kernel Information:\n",
    "\n",
    "Python 3.7.1 (default, Oct 20 2018, 21:59:34) \n",
    "Type 'copyright', 'credits' or 'license' for more information\n",
    "IPython 7.1.1 -- An enhanced Interactive Python. Type '?' for help."
   ]
  },
  {
   "cell_type": "markdown",
   "metadata": {},
   "source": [
    "Setup a python 3.7 kernel:\n",
    "    \n",
    "```bash\n",
    "# Install python 3.7 (if not already installed)\n",
    "sudo add-apt-repository ppa:deadsnakes/ppa\n",
    "sudo apt-get update\n",
    "sudo apt-get install python3.7-dev\n",
    "\n",
    "# Create a directory for the project and change to it\n",
    "mkdir /path/to/dataclass-notebook-dir && cd /path/to/dataclass-notebook-dir\n",
    "\n",
    "# Create a virtual environment using Python 3.7 (required for dataclasses)\n",
    "virtualenv -p $(which python3.7) py37\n",
    "\n",
    "# Add a python 3.7 kernel to Jupyter\n",
    "source py37/bin/activate\n",
    "pip install ipykernel\n",
    "python -m ipykernel install --user --name=py37\n",
    "```"
   ]
  },
  {
   "cell_type": "markdown",
   "metadata": {
    "toc": true
   },
   "source": [
    "<h1>Table of Contents<span class=\"tocSkip\"></span></h1>\n",
    "<div class=\"toc\"><ul class=\"toc-item\"><li><span><a href=\"#What-is-a-dataclass-?\" data-toc-modified-id=\"What-is-a-dataclass-?-1\"><span class=\"toc-item-num\">1&nbsp;&nbsp;</span>What is a dataclass ?</a></span><ul class=\"toc-item\"><li><span><a href=\"#Dataclass-options\" data-toc-modified-id=\"Dataclass-options-1.1\"><span class=\"toc-item-num\">1.1&nbsp;&nbsp;</span>Dataclass options</a></span><ul class=\"toc-item\"><li><span><a href=\"#Dataclass-can-emulate-immutability\" data-toc-modified-id=\"Dataclass-can-emulate-immutability-1.1.1\"><span class=\"toc-item-num\">1.1.1&nbsp;&nbsp;</span>Dataclass can <em>emulate</em> immutability</a></span></li><li><span><a href=\"#How-to-force-creation-of-__hash__-?-(advanced-level)\" data-toc-modified-id=\"How-to-force-creation-of-__hash__-?-(advanced-level)-1.1.2\"><span class=\"toc-item-num\">1.1.2&nbsp;&nbsp;</span>How to force creation of __hash__ ? (advanced level)</a></span></li></ul></li><li><span><a href=\"#What-dataclasses-also-give-for-free\" data-toc-modified-id=\"What-dataclasses-also-give-for-free-1.2\"><span class=\"toc-item-num\">1.2&nbsp;&nbsp;</span>What dataclasses also give for free</a></span><ul class=\"toc-item\"><li><span><a href=\"#Some-helpers\" data-toc-modified-id=\"Some-helpers-1.2.1\"><span class=\"toc-item-num\">1.2.1&nbsp;&nbsp;</span>Some helpers</a></span></li><li><span><a href=\"#Some-methods\" data-toc-modified-id=\"Some-methods-1.2.2\"><span class=\"toc-item-num\">1.2.2&nbsp;&nbsp;</span>Some methods</a></span></li><li><span><a href=\"#How-to-inspect-the-generated-methods-?-(advanced-level)\" data-toc-modified-id=\"How-to-inspect-the-generated-methods-?-(advanced-level)-1.2.3\"><span class=\"toc-item-num\">1.2.3&nbsp;&nbsp;</span>How to inspect the generated methods ? (advanced level)</a></span></li></ul></li></ul></li><li><span><a href=\"#How-to-customize-__init__-?\" data-toc-modified-id=\"How-to-customize-__init__-?-2\"><span class=\"toc-item-num\">2&nbsp;&nbsp;</span>How to customize __init__ ?</a></span></li><li><span><a href=\"#Remarks-about-inheritance\" data-toc-modified-id=\"Remarks-about-inheritance-3\"><span class=\"toc-item-num\">3&nbsp;&nbsp;</span>Remarks about inheritance</a></span><ul class=\"toc-item\"><li><span><a href=\"#Only-between-dataclasses\" data-toc-modified-id=\"Only-between-dataclasses-3.1\"><span class=\"toc-item-num\">3.1&nbsp;&nbsp;</span>Only between dataclasses</a></span></li><li><span><a href=\"#Mixed-dataclasses-and-non-dataclasses\" data-toc-modified-id=\"Mixed-dataclasses-and-non-dataclasses-3.2\"><span class=\"toc-item-num\">3.2&nbsp;&nbsp;</span>Mixed dataclasses and non-dataclasses</a></span></li></ul></li><li><span><a href=\"#Summary\" data-toc-modified-id=\"Summary-4\"><span class=\"toc-item-num\">4&nbsp;&nbsp;</span>Summary</a></span></li></ul></div>"
   ]
  },
  {
   "cell_type": "markdown",
   "metadata": {},
   "source": [
    "**An important reminder about side-effects in Python**"
   ]
  },
  {
   "cell_type": "code",
   "execution_count": 1,
   "metadata": {
    "collapsed": true
   },
   "outputs": [],
   "source": [
    "class PulseLesson:\n",
    "    \"\"\"Class to help Pulse lesson organization\"\"\"\n",
    "    def __init__(self, date, members=[]):\n",
    "        self.date = date                # Day of the lesson\n",
    "        self.members = members          # List of the members attending the lesson\n",
    "        self.members.append('Rudolphe') # Rudolphe always comes, he is the coach !\n",
    "    \n",
    "    def add_members(self, names):\n",
    "        \"\"\"Add members to the Pulse Lesson\"\"\"\n",
    "        self.members.extend(names)\n",
    "        return self.members"
   ]
  },
  {
   "cell_type": "code",
   "execution_count": 2,
   "metadata": {
    "cell_style": "center"
   },
   "outputs": [
    {
     "data": {
      "text/plain": [
       "['Rudolphe', 'Alex', 'Isabelle']"
      ]
     },
     "execution_count": 2,
     "metadata": {},
     "output_type": "execute_result"
    }
   ],
   "source": [
    "lesson_tuesday = PulseLesson(date='tuesday')\n",
    "lesson_tuesday.add_members(['Alex', 'Isabelle'])"
   ]
  },
  {
   "cell_type": "code",
   "execution_count": 3,
   "metadata": {
    "cell_style": "center"
   },
   "outputs": [
    {
     "data": {
      "text/plain": [
       "['Rudolphe', 'Alex', 'Isabelle', 'Antoine']"
      ]
     },
     "execution_count": 3,
     "metadata": {},
     "output_type": "execute_result"
    }
   ],
   "source": [
    "lesson_tuesday.add_members(['Antoine'])"
   ]
  },
  {
   "cell_type": "code",
   "execution_count": 4,
   "metadata": {
    "cell_style": "center"
   },
   "outputs": [
    {
     "data": {
      "text/plain": [
       "['Rudolphe', 'Alex', 'Isabelle', 'Antoine', 'Rudolphe', 'Seb']"
      ]
     },
     "execution_count": 4,
     "metadata": {},
     "output_type": "execute_result"
    }
   ],
   "source": [
    "lesson_friday = PulseLesson(date='friday')\n",
    "lesson_friday.add_members(['Seb'])"
   ]
  },
  {
   "cell_type": "markdown",
   "metadata": {},
   "source": [
    "Since we created a new object (`lesson_friday`), we expected to have an empty `members` list (as defined at Line 5 in `PulseLesson` definition). Instead, we got a list already filled with previous instantiation (`lesson_tuesday`).\n",
    "This is an annoying **side-effect** of `PulseLesson`'s initialization. \n",
    "\n",
    "Indeed, the attribute `members` is initalized with Mutable at _import time_ (when python interpreter reads Class definition, its methods defaults are _run_, and its methods content are only _read_).\n",
    "To prevent side-effects, we can rewrite `__init__` like below (moving Mutable initialization from method's defaults to its content):\n",
    "\n",
    "\n",
    "```python\n",
    "    def __init__(self, date, members=None):\n",
    "        self.date = date                # Day of the lesson\n",
    "        self.members = members or []    # List of the members attending the lesson\n",
    "        self.members.append('Rudolphe') # Rudolphe always comes, he is the coach !\n",
    "```\n",
    "\n",
    "We'll see that use of `dataclasses` will help preventing such side-effects, one of the great new features.\n",
    "\n",
    "\n"
   ]
  },
  {
   "cell_type": "markdown",
   "metadata": {},
   "source": [
    "## What is a dataclass ?\n",
    "\n",
    "> Dataclasses is a **new standard module** which provides a **decorator** to automate the creation of **data-structured classes**."
   ]
  },
  {
   "cell_type": "markdown",
   "metadata": {},
   "source": [
    "- New feature of `python 3.7`, backported to `python 3.6` [But **backporting is incompatible** with python 3.7](https://github.com/ericvsmith/dataclasses#compatibility)\n",
    "- It is a standard python class\n",
    "- It behaves like a namedtuple (similar to _mutable namedtuple with defaults_)\n",
    "- It generates a lot of boilerplate code"
   ]
  },
  {
   "cell_type": "markdown",
   "metadata": {
    "cell_style": "center"
   },
   "source": [
    "###### Before Dataclasses"
   ]
  },
  {
   "cell_type": "code",
   "execution_count": 5,
   "metadata": {
    "cell_style": "center",
    "collapsed": true
   },
   "outputs": [],
   "source": [
    "class User:\n",
    "    def __init__(self, id_, first_name='Barbara', last_name='Streisand', cities=None):\n",
    "        self.id_        = id_\n",
    "        self.first_name = first_name\n",
    "        self.last_name  = last_name\n",
    "        self.cities     = cities or []"
   ]
  },
  {
   "cell_type": "code",
   "execution_count": 6,
   "metadata": {},
   "outputs": [
    {
     "data": {
      "text/plain": [
       "<__main__.User at 0x7f09d8593908>"
      ]
     },
     "execution_count": 6,
     "metadata": {},
     "output_type": "execute_result"
    }
   ],
   "source": [
    "User(69)"
   ]
  },
  {
   "cell_type": "markdown",
   "metadata": {
    "cell_style": "center"
   },
   "source": [
    "###### With Dataclasses & Typing\n",
    "\n",
    "Typing module (python 3.5+) allows us  to define abstract types (better for description).\n",
    "So they are very convenient to **describe the data fields**\n",
    "\n",
    "If they are not respected, no exception will be raised (because of python flexibility) but we can be more strict using [mypy](https://github.com/python/mypy)."
   ]
  },
  {
   "cell_type": "code",
   "execution_count": 7,
   "metadata": {
    "collapsed": true
   },
   "outputs": [],
   "source": [
    "from dataclasses import dataclass, field\n",
    "from typing import Text, List"
   ]
  },
  {
   "cell_type": "code",
   "execution_count": 8,
   "metadata": {
    "cell_style": "center",
    "collapsed": true
   },
   "outputs": [],
   "source": [
    "@dataclass\n",
    "class User:\n",
    "    id_        : int\n",
    "    first_name : Text = 'Barbara'\n",
    "    last_name  : Text = field(default='Streisand')\n",
    "    cities     : List[Text] = field(default_factory=list)"
   ]
  },
  {
   "cell_type": "code",
   "execution_count": 9,
   "metadata": {},
   "outputs": [
    {
     "data": {
      "text/plain": [
       "User(id_=42, first_name='Barbara', last_name='Streisand', cities=[])"
      ]
     },
     "execution_count": 9,
     "metadata": {},
     "output_type": "execute_result"
    }
   ],
   "source": [
    "User(42) # repr given for free"
   ]
  },
  {
   "cell_type": "markdown",
   "metadata": {},
   "source": [
    "As you can see:\n",
    "- class definition is **less verbose**\n",
    "- Use of `field` **prevents side-effects** (mutable defaults)"
   ]
  },
  {
   "cell_type": "markdown",
   "metadata": {},
   "source": [
    "###### How to define a field (dataclass attribute) ?"
   ]
  },
  {
   "cell_type": "markdown",
   "metadata": {},
   "source": [
    "The `dataclass` module gives us a helper (`field`) to define the attributes with several parameters\n",
    "\n",
    "`field`'s signature (to see parameters and their defaults, [detailed list](https://www.python.org/dev/peps/pep-0557/#id8)):\n",
    "\n",
    "    def field(*, default=MISSING, default_factory=MISSING, repr=True, \n",
    "              hash=None, init=True, compare=True, metadata=None)\n",
    "\n",
    "Some remarks:\n",
    "- It is optional to use `field` to define a default value\n",
    "  ```python\n",
    "     @dataclass\n",
    "     class NiceClass:\n",
    "        age   : int                      # no default value\n",
    "        width : int = 0                  # default value\n",
    "        height: int = field(default=0)   # default value with field (completely equivalent to width)\n",
    "  ```\n",
    "- Attributes with defaults **must be defined** after the ones without(like usually):\n",
    "  ```python\n",
    "     @dataclass\n",
    "     class NiceClass:\n",
    "        width : int = 0                  # default value\n",
    "        age   : int                      # no default value\n",
    "        height: int = field(default=0)   # default value\n",
    "     # Will raise TypeError\n",
    "  ```\n",
    "- `default_factory` parameter must be a **zero-argument callable** that will be called when a default value is required for the field. Setting `default` and `default_factory` will raise an error.\n",
    "- `metadata` parameter is a read-only dict (if set, `None` otherwise) that can contain data, description about the field\n",
    "    - Example: if you want to associate a list of mirrors to download a dataset \n",
    "\n",
    "```python\n",
    "       @dataclass\n",
    "       class NiceClass:\n",
    "           dataset : ByteString = field(default=b'', metadata={'mirrors': ['http://...', 'http://...']}\n",
    " ```"
   ]
  },
  {
   "cell_type": "markdown",
   "metadata": {},
   "source": [
    "[^ Go to the top!](#Table-of-Contents)"
   ]
  },
  {
   "cell_type": "markdown",
   "metadata": {},
   "source": [
    "### Dataclass options"
   ]
  },
  {
   "cell_type": "markdown",
   "metadata": {},
   "source": [
    "`dataclass` constructor offers some options:\n",
    "- to control which methods are automatically generated (see [section](#Some-methods))\n",
    "- to monitor behaviour:\n",
    "    - How to make the class immutable ? (`frozen` option)\n",
    "    - How to force creation of `__hash__` ? (`unsafe_hash` option)"
   ]
  },
  {
   "cell_type": "markdown",
   "metadata": {},
   "source": [
    "#### Dataclass can _emulate_ immutability"
   ]
  },
  {
   "cell_type": "markdown",
   "metadata": {},
   "source": [
    "Let's use the `frozen` option to emulate immutability of a dataclass.\n",
    "What's great with this feature is that we'll be able to use instances of our dataclasses in sets !"
   ]
  },
  {
   "cell_type": "code",
   "execution_count": 10,
   "metadata": {
    "cell_style": "center",
    "collapsed": true
   },
   "outputs": [],
   "source": [
    "@dataclass(frozen=True)\n",
    "class FrozenActor:\n",
    "    id_        : int\n",
    "    first_name : Text = 'Barbara'\n",
    "    last_name  : Text = field(default='Streisand')"
   ]
  },
  {
   "cell_type": "code",
   "execution_count": 11,
   "metadata": {},
   "outputs": [
    {
     "data": {
      "text/plain": [
       "FrozenActor(id_=666, first_name='Roger', last_name='Hanin')"
      ]
     },
     "execution_count": 11,
     "metadata": {},
     "output_type": "execute_result"
    }
   ],
   "source": [
    "frozen_roger = FrozenActor(666, 'Roger', 'Hanin')\n",
    "frozen_roger"
   ]
  },
  {
   "cell_type": "code",
   "execution_count": 12,
   "metadata": {},
   "outputs": [
    {
     "data": {
      "text/plain": [
       "{FrozenActor(id_=666, first_name='Roger', last_name='Hanin'): 67}"
      ]
     },
     "execution_count": 12,
     "metadata": {},
     "output_type": "execute_result"
    }
   ],
   "source": [
    "# We can use the class as unique key (because made hashable)\n",
    "actor_films = {frozen_roger: 67}\n",
    "actor_films"
   ]
  },
  {
   "cell_type": "markdown",
   "metadata": {},
   "source": [
    "Now, Let's see what happens when setting an _mutable attribute_:"
   ]
  },
  {
   "cell_type": "code",
   "execution_count": 13,
   "metadata": {
    "cell_style": "center",
    "collapsed": true
   },
   "outputs": [],
   "source": [
    "@dataclass(frozen=True)\n",
    "class FrozenActorWithMutable:\n",
    "    id_        : int\n",
    "    first_name : Text = 'Barbara'\n",
    "    last_name  : Text = field(default='Streisand')\n",
    "    cities     : List[Text] = field(default_factory=list)"
   ]
  },
  {
   "cell_type": "code",
   "execution_count": 14,
   "metadata": {},
   "outputs": [
    {
     "data": {
      "text/plain": [
       "FrozenActorWithMutable(id_=314, first_name='Barbara', last_name='Streisand', cities=['New York'])"
      ]
     },
     "execution_count": 14,
     "metadata": {},
     "output_type": "execute_result"
    }
   ],
   "source": [
    "frozen_barbara = FrozenActorWithMutable(314, 'Barbara', 'Streisand', cities=['New York'])\n",
    "frozen_barbara"
   ]
  },
  {
   "cell_type": "code",
   "execution_count": 15,
   "metadata": {},
   "outputs": [
    {
     "ename": "TypeError",
     "evalue": "unhashable type: 'list'",
     "output_type": "error",
     "traceback": [
      "\u001b[0;31m---------------------------------------------------------------------------\u001b[0m",
      "\u001b[0;31mTypeError\u001b[0m                                 Traceback (most recent call last)",
      "\u001b[0;32m<ipython-input-15-2b42cebc84bd>\u001b[0m in \u001b[0;36m<module>\u001b[0;34m\u001b[0m\n\u001b[1;32m      1\u001b[0m \u001b[0;31m# We can use the class as unique key (because made hashable)\u001b[0m\u001b[0;34m\u001b[0m\u001b[0;34m\u001b[0m\u001b[0;34m\u001b[0m\u001b[0m\n\u001b[0;32m----> 2\u001b[0;31m \u001b[0mactor_films\u001b[0m \u001b[0;34m=\u001b[0m \u001b[0;34m{\u001b[0m\u001b[0mfrozen_barbara\u001b[0m\u001b[0;34m:\u001b[0m \u001b[0;36m26\u001b[0m\u001b[0;34m}\u001b[0m\u001b[0;34m\u001b[0m\u001b[0;34m\u001b[0m\u001b[0m\n\u001b[0m\u001b[1;32m      3\u001b[0m \u001b[0mactor_films\u001b[0m\u001b[0;34m\u001b[0m\u001b[0;34m\u001b[0m\u001b[0m\n",
      "\u001b[0;32m/usr/lib/python3.7/dataclasses.py\u001b[0m in \u001b[0;36m__hash__\u001b[0;34m(self)\u001b[0m\n",
      "\u001b[0;31mTypeError\u001b[0m: unhashable type: 'list'"
     ]
    }
   ],
   "source": [
    "# We can use the class as unique key (because made hashable)\n",
    "actor_films = {frozen_barbara: 26}\n",
    "actor_films"
   ]
  },
  {
   "cell_type": "markdown",
   "metadata": {},
   "source": [
    "Great news! Python can't be fooled so easily ;)\n",
    "\n",
    "But be careful, attributes are still frozen but **not recursively** :"
   ]
  },
  {
   "cell_type": "code",
   "execution_count": 16,
   "metadata": {
    "cell_style": "split"
   },
   "outputs": [
    {
     "ename": "FrozenInstanceError",
     "evalue": "cannot assign to field 'first_namerst_name'",
     "output_type": "error",
     "traceback": [
      "\u001b[0;31m---------------------------------------------------------------------------\u001b[0m",
      "\u001b[0;31mFrozenInstanceError\u001b[0m                       Traceback (most recent call last)",
      "\u001b[0;32m<ipython-input-16-f8b81c6190e6>\u001b[0m in \u001b[0;36m<module>\u001b[0;34m\u001b[0m\n\u001b[1;32m      1\u001b[0m \u001b[0;31m# Let's try to change a direct attribute\u001b[0m\u001b[0;34m\u001b[0m\u001b[0;34m\u001b[0m\u001b[0;34m\u001b[0m\u001b[0m\n\u001b[0;32m----> 2\u001b[0;31m \u001b[0mfrozen_barbara\u001b[0m\u001b[0;34m.\u001b[0m\u001b[0mfirst_namerst_name\u001b[0m \u001b[0;34m=\u001b[0m \u001b[0;34m'Mauricette'\u001b[0m\u001b[0;34m\u001b[0m\u001b[0;34m\u001b[0m\u001b[0m\n\u001b[0m",
      "\u001b[0;32m<string>\u001b[0m in \u001b[0;36m__setattr__\u001b[0;34m(self, name, value)\u001b[0m\n",
      "\u001b[0;31mFrozenInstanceError\u001b[0m: cannot assign to field 'first_namerst_name'"
     ]
    }
   ],
   "source": [
    "# Let's try to change a direct attribute\n",
    "frozen_barbara.first_namerst_name = 'Mauricette'"
   ]
  },
  {
   "cell_type": "code",
   "execution_count": 17,
   "metadata": {
    "cell_style": "split"
   },
   "outputs": [
    {
     "data": {
      "text/plain": [
       "FrozenActorWithMutable(id_=314, first_name='Barbara', last_name='Streisand', cities=['New York', 'Lyon'])"
      ]
     },
     "execution_count": 17,
     "metadata": {},
     "output_type": "execute_result"
    }
   ],
   "source": [
    "# but !\n",
    "frozen_barbara.cities.append('Lyon')\n",
    "frozen_barbara"
   ]
  },
  {
   "cell_type": "markdown",
   "metadata": {},
   "source": [
    "[^ Go to the top!](#Table-of-Contents)"
   ]
  },
  {
   "cell_type": "markdown",
   "metadata": {},
   "source": [
    "#### How to force creation of \\_\\_hash\\_\\_ ? (advanced level)"
   ]
  },
  {
   "cell_type": "markdown",
   "metadata": {},
   "source": [
    "Default behaviour(`unsafe_hash=False`) means that we let python make the dataclass hashable when it is logical (see table below)"
   ]
  },
  {
   "cell_type": "markdown",
   "metadata": {},
   "source": [
    "       +------------------- unsafe_hash= parameter\n",
    "       |       +----------- eq= parameter\n",
    "       |       |       +--- frozen= parameter\n",
    "       |       |       |\n",
    "       v       v       v    |        |        |\n",
    "                            |   no   |  yes   |  <--- class has explicitly defined __hash__\n",
    "    +=======+=======+=======+========+========+\n",
    "    | False | False | False |        |        | No __eq__, use the base class __hash__\n",
    "    +-------+-------+-------+--------+--------+\n",
    "    | False | False | True  |        |        | No __eq__, use the base class __hash__\n",
    "    +-------+-------+-------+--------+--------+\n",
    "    | False | True  | False | None   |        | <-- the default, not hashable\n",
    "    +-------+-------+-------+--------+--------+\n",
    "    | False | True  | True  | add    |        | Frozen, so hashable, allows override\n",
    "    +-------+-------+-------+--------+--------+\n",
    "    | True  | False | False | add    | raise  | Has no __eq__, but hashable\n",
    "    +-------+-------+-------+--------+--------+\n",
    "    | True  | False | True  | add    | raise  | Has no __eq__, but hashable\n",
    "    +-------+-------+-------+--------+--------+\n",
    "    | True  | True  | False | add    | raise  | Not frozen, but hashable\n",
    "    +-------+-------+-------+--------+--------+\n",
    "    | True  | True  | True  | add    | raise  | Frozen, so hashable\n",
    "    +=======+=======+=======+========+========+\n",
    "    For boxes that are blank, __hash__ is untouched and therefore\n",
    "    inherited from the base class.  If the base is object, then\n",
    "    id-based hashing is used.\n",
    "\n",
    "    Note that a class may already have __hash__=None if it specified an\n",
    "    __eq__ method in the class body (not one that was created by\n",
    "    @dataclass).\n",
    "\n",
    "[source](https://github.com/python/cpython/blob/3.7/Lib/dataclasses.py#L118)"
   ]
  },
  {
   "cell_type": "markdown",
   "metadata": {},
   "source": [
    "[^ Go to the top!](#Table-of-Contents)"
   ]
  },
  {
   "cell_type": "markdown",
   "metadata": {},
   "source": [
    "### What dataclasses also give for free"
   ]
  },
  {
   "cell_type": "markdown",
   "metadata": {},
   "source": [
    "#### Some helpers\n",
    "Full list [here](https://www.python.org/dev/peps/pep-0557/#module-level-helper-functions)"
   ]
  },
  {
   "cell_type": "code",
   "execution_count": 18,
   "metadata": {
    "cell_style": "center",
    "collapsed": true
   },
   "outputs": [],
   "source": [
    "from dataclasses import asdict, astuple\n",
    "\n",
    "user = User(42)"
   ]
  },
  {
   "cell_type": "code",
   "execution_count": 19,
   "metadata": {
    "cell_style": "split"
   },
   "outputs": [
    {
     "data": {
      "text/plain": [
       "{'id_': 42, 'first_name': 'Barbara', 'last_name': 'Streisand', 'cities': []}"
      ]
     },
     "execution_count": 19,
     "metadata": {},
     "output_type": "execute_result"
    }
   ],
   "source": [
    "asdict(user)"
   ]
  },
  {
   "cell_type": "code",
   "execution_count": 20,
   "metadata": {
    "cell_style": "split"
   },
   "outputs": [
    {
     "data": {
      "text/plain": [
       "(42, 'Barbara', 'Streisand', [])"
      ]
     },
     "execution_count": 20,
     "metadata": {},
     "output_type": "execute_result"
    }
   ],
   "source": [
    "astuple(user)"
   ]
  },
  {
   "cell_type": "markdown",
   "metadata": {},
   "source": [
    "[^ Go to the top!](#Table-of-Contents)"
   ]
  },
  {
   "cell_type": "markdown",
   "metadata": {},
   "source": [
    "#### Some methods\n",
    "Full list with examples [here](https://www.python.org/dev/peps/pep-0557/#id7)"
   ]
  },
  {
   "cell_type": "markdown",
   "metadata": {},
   "source": [
    "`@dataclass` will automatically add to the class the following methods:\n",
    "- `__init__` when using `@dataclass(init=True)`\n",
    "- `__repr__` when using `@dataclass(repr=True)`\n",
    "- `__eq__`   when using `@dataclass(eq=True)`\n",
    "- `__lt__`, `__le__`, `__gt__`, and `__ge__`: when using `@dataclass(order=True)` (default is `False`)\n",
    "\n",
    "**But**, note that _these methods_:\n",
    "- **won't be generated** if said so in dataclass constructor `@dataclass(init=False, repr=False...)`\n",
    "    \n",
    "    Full signature: `def dataclass(*, init=True, repr=True, eq=True, order=False, unsafe_hash=False, frozen=False)`\n",
    "\n",
    "\n",
    "- **will be overwritten** if the class already defined the method. (_Explicit is better than implicit._)\n",
    "- **will overwrite** inherited methods when the class does not define the method."
   ]
  },
  {
   "cell_type": "markdown",
   "metadata": {},
   "source": [
    "#### How to inspect the generated methods ? (advanced level)\n",
    "- Not possible to get source code with `inspect` (but signature can be inspected)\n",
    "- Possible to disassemble the bytecode with `dis.dis`\n",
    "- Possible to reassemble the code with external lib [DataClassInspector](https://github.com/DamlaAltun/DataclassInspector)"
   ]
  },
  {
   "cell_type": "markdown",
   "metadata": {},
   "source": [
    "###### Inspect"
   ]
  },
  {
   "cell_type": "markdown",
   "metadata": {},
   "source": [
    "We cannot inspect the generated code because inspection works either by reading the file containing the source (`__file__` attribute) or by reading the _cache_ of `linecache` but [not in _interactive sessions_](https://mail.python.org/pipermail/python-list/2014-August/677076.html). ([see source](https://github.com/python/cpython/blob/3.7/Lib/inspect.py#L680))\n",
    "\n",
    "The code generated by `@dataclass` was written in a `str` and executed with `exec`([see source](https://github.com/python/cpython/blob/3.7/Lib/dataclasses.py#L386)) so neither a `__file__` attribute nor a cache is available.\n",
    "\n",
    "Note that it's exceptionally possible to get source code of _function_ (but [not class](https://bugs.python.org/issue33826?@ok_message=msg%20328824%20created%0Aissue%2033826%20message_count%2C%20messages%20edited%20ok&@template=item#msg319692)) in ipython(embedded in Jupyter), because [ipython write code cell source in `linecache.cache`](https://bugs.python.org/issue12920#msg245721)"
   ]
  },
  {
   "cell_type": "code",
   "execution_count": 21,
   "metadata": {
    "collapsed": true
   },
   "outputs": [],
   "source": [
    "import inspect"
   ]
  },
  {
   "cell_type": "code",
   "execution_count": 22,
   "metadata": {
    "cell_style": "split",
    "collapsed": true
   },
   "outputs": [],
   "source": [
    "class VolcanNoDataClass:\n",
    "    def __init__(self, lava):\n",
    "        print(\"lavaa\")"
   ]
  },
  {
   "cell_type": "code",
   "execution_count": 23,
   "metadata": {
    "cell_style": "split",
    "collapsed": true
   },
   "outputs": [],
   "source": [
    "@dataclass\n",
    "class Volcan:\n",
    "    country: str"
   ]
  },
  {
   "cell_type": "code",
   "execution_count": 24,
   "metadata": {
    "cell_style": "split"
   },
   "outputs": [
    {
     "name": "stdout",
     "output_type": "stream",
     "text": [
      "    def __init__(self, lava):\n",
      "        print(\"lavaa\")\n",
      "\n"
     ]
    }
   ],
   "source": [
    "print(inspect.getsource(VolcanNoDataClass.__init__))"
   ]
  },
  {
   "cell_type": "code",
   "execution_count": 25,
   "metadata": {
    "cell_style": "split"
   },
   "outputs": [
    {
     "name": "stdout",
     "output_type": "stream",
     "text": [
      "Source code not accessible\n"
     ]
    }
   ],
   "source": [
    "try: \n",
    "    print(inspect.getsource(Volcan.__init__))\n",
    "except OSError:\n",
    "    print(\"Source code not accessible\")"
   ]
  },
  {
   "cell_type": "markdown",
   "metadata": {},
   "source": [
    "But, we can still access the signatures of generated methods"
   ]
  },
  {
   "cell_type": "code",
   "execution_count": 26,
   "metadata": {
    "cell_style": "split"
   },
   "outputs": [
    {
     "data": {
      "text/plain": [
       "'(self, lava)'"
      ]
     },
     "execution_count": 26,
     "metadata": {},
     "output_type": "execute_result"
    }
   ],
   "source": [
    "str(inspect.signature(VolcanNoDataClass.__init__))"
   ]
  },
  {
   "cell_type": "code",
   "execution_count": 27,
   "metadata": {
    "cell_style": "split"
   },
   "outputs": [
    {
     "data": {
      "text/plain": [
       "'(self, country: str) -> None'"
      ]
     },
     "execution_count": 27,
     "metadata": {},
     "output_type": "execute_result"
    }
   ],
   "source": [
    "str(inspect.signature(Volcan.__init__))"
   ]
  },
  {
   "cell_type": "code",
   "execution_count": 28,
   "metadata": {
    "cell_style": "split"
   },
   "outputs": [
    {
     "data": {
      "text/plain": [
       "'<ipython-input-22-cd6d750458f6>'"
      ]
     },
     "execution_count": 28,
     "metadata": {},
     "output_type": "execute_result"
    }
   ],
   "source": [
    "inspect.getsourcefile(VolcanNoDataClass.__init__)"
   ]
  },
  {
   "cell_type": "code",
   "execution_count": 29,
   "metadata": {
    "cell_style": "split"
   },
   "outputs": [
    {
     "data": {
      "text/plain": [
       "True"
      ]
     },
     "execution_count": 29,
     "metadata": {},
     "output_type": "execute_result"
    }
   ],
   "source": [
    "inspect.getsourcefile(Volcan.__init__) is None"
   ]
  },
  {
   "cell_type": "markdown",
   "metadata": {},
   "source": [
    "_side-note about signature inspection between python 2 & 3_\n",
    "\n",
    "```python\n",
    "    str(inspect.signature(Volcan.__init__)) # python 3.3+\n",
    "    inspect.getfullargspec(Volcan.__init__) # python 2.7+\n",
    "```"
   ]
  },
  {
   "cell_type": "markdown",
   "metadata": {},
   "source": [
    "###### Disassembling the generated bytecode"
   ]
  },
  {
   "cell_type": "code",
   "execution_count": 30,
   "metadata": {
    "collapsed": true
   },
   "outputs": [],
   "source": [
    "import dis"
   ]
  },
  {
   "cell_type": "code",
   "execution_count": 31,
   "metadata": {
    "cell_style": "split",
    "scrolled": true
   },
   "outputs": [
    {
     "name": "stdout",
     "output_type": "stream",
     "text": [
      "  3           0 LOAD_GLOBAL              0 (print)\n",
      "              2 LOAD_CONST               1 ('lavaa')\n",
      "              4 CALL_FUNCTION            1\n",
      "              6 POP_TOP\n",
      "              8 LOAD_CONST               0 (None)\n",
      "             10 RETURN_VALUE\n"
     ]
    }
   ],
   "source": [
    "dis.dis(VolcanNoDataClass.__init__)"
   ]
  },
  {
   "cell_type": "code",
   "execution_count": 32,
   "metadata": {
    "cell_style": "split"
   },
   "outputs": [
    {
     "name": "stdout",
     "output_type": "stream",
     "text": [
      "  2           0 LOAD_FAST                1 (country)\n",
      "              2 LOAD_FAST                0 (self)\n",
      "              4 STORE_ATTR               0 (country)\n",
      "              6 LOAD_CONST               0 (None)\n",
      "              8 RETURN_VALUE\n"
     ]
    }
   ],
   "source": [
    "dis.dis(Volcan.__init__)"
   ]
  },
  {
   "cell_type": "markdown",
   "metadata": {},
   "source": [
    "###### Reassembling the code with DataClassInspector\n",
    "\n",
    "`pip install DataclassInspector`"
   ]
  },
  {
   "cell_type": "code",
   "execution_count": 33,
   "metadata": {},
   "outputs": [
    {
     "name": "stdout",
     "output_type": "stream",
     "text": [
      "from dataclasses import Field, _MISSING_TYPE, _DataclassParams\n",
      "\n",
      "\n",
      "class Volcan:\n",
      "    __dataclass_fields__ = {\n",
      "        \"country\": \"Field(name='country', type=str, default=_MISSING_TYPE, default_factory=_MISSING_TYPE, init=True, repr=True, hash=None, compare=True, metadata={}, _field_type=_FIELD)\"\n",
      "    }\n",
      "    __dataclass_params__ = _DataclassParams(\n",
      "        init=True,\n",
      "        repr=True,\n",
      "        eq=True,\n",
      "        order=False,\n",
      "        unsafe_hash=False,\n",
      "        frozen=False,\n",
      "    )\n",
      "    country: str\n",
      "\n",
      "    def __eq__(self, other):\n",
      "        if other.__class__ is self.__class__:\n",
      "            return (self.country,) == (other.country,)\n",
      "        else:\n",
      "            return NotImplemented\n",
      "\n",
      "    __hash__ = None\n",
      "\n",
      "    def __init__(self, country: str) -> None:\n",
      "        self.country = country\n",
      "\n",
      "    def __repr__(self):\n",
      "        return (\n",
      "            self.__class__.__qualname__ + f\"\"\"(country={(self.country)!r})\"\"\"\n",
      "        )\n",
      "\n"
     ]
    }
   ],
   "source": [
    "from DataclassInspector.inspector import Inspector\n",
    "\n",
    "VolcanInspected = Inspector(Volcan)\n",
    "\n",
    "print(VolcanInspected.code)"
   ]
  },
  {
   "cell_type": "markdown",
   "metadata": {},
   "source": [
    "[^ Go to the top!](#Table-of-Contents)"
   ]
  },
  {
   "cell_type": "markdown",
   "metadata": {},
   "source": [
    "## How to customize \\_\\_init\\_\\_ ?"
   ]
  },
  {
   "cell_type": "code",
   "execution_count": 34,
   "metadata": {
    "collapsed": true
   },
   "outputs": [],
   "source": [
    "@dataclass\n",
    "class Duration:\n",
    "    years  : int\n",
    "    months : int = field(init=False)\n",
    "    \n",
    "    def __post_init__(self):\n",
    "        self.months = self.years * 12"
   ]
  },
  {
   "cell_type": "code",
   "execution_count": 35,
   "metadata": {},
   "outputs": [
    {
     "data": {
      "text/plain": [
       "Duration(years=20, months=240)"
      ]
     },
     "execution_count": 35,
     "metadata": {},
     "output_type": "execute_result"
    }
   ],
   "source": [
    "Duration(20)"
   ]
  },
  {
   "cell_type": "markdown",
   "metadata": {},
   "source": [
    "[^ Go to the top!](#Table-of-Contents)"
   ]
  },
  {
   "cell_type": "markdown",
   "metadata": {},
   "source": [
    "## Remarks about inheritance"
   ]
  },
  {
   "cell_type": "markdown",
   "metadata": {},
   "source": [
    "### Only between dataclasses"
   ]
  },
  {
   "cell_type": "code",
   "execution_count": 36,
   "metadata": {
    "cell_style": "split",
    "collapsed": true
   },
   "outputs": [],
   "source": [
    "@dataclass\n",
    "class Mother:\n",
    "    attr_mother: int = 69\n",
    "\n",
    "@dataclass\n",
    "class Child(Mother):\n",
    "    attr_child: int = 91"
   ]
  },
  {
   "cell_type": "code",
   "execution_count": 37,
   "metadata": {
    "cell_style": "split"
   },
   "outputs": [
    {
     "data": {
      "text/plain": [
       "Mother(attr_mother=69)"
      ]
     },
     "execution_count": 37,
     "metadata": {},
     "output_type": "execute_result"
    }
   ],
   "source": [
    "Mother()"
   ]
  },
  {
   "cell_type": "code",
   "execution_count": 38,
   "metadata": {
    "cell_style": "split"
   },
   "outputs": [
    {
     "data": {
      "text/plain": [
       "Child(attr_mother=69, attr_child=91)"
      ]
     },
     "execution_count": 38,
     "metadata": {},
     "output_type": "execute_result"
    }
   ],
   "source": [
    "Child()"
   ]
  },
  {
   "cell_type": "markdown",
   "metadata": {},
   "source": [
    "[^ Go to the top!](#Table-of-Contents)"
   ]
  },
  {
   "cell_type": "markdown",
   "metadata": {},
   "source": [
    "### Mixed dataclasses and non-dataclasses"
   ]
  },
  {
   "cell_type": "markdown",
   "metadata": {},
   "source": [
    "Since dataclasses are usual python classes, they are compatible with non-dataclasses, but we should keep it mind what it provides for free"
   ]
  },
  {
   "cell_type": "markdown",
   "metadata": {
    "cell_style": "split"
   },
   "source": [
    "_Without dataclasses_"
   ]
  },
  {
   "cell_type": "markdown",
   "metadata": {
    "cell_style": "split"
   },
   "source": [
    "_With only the Child as a dataclass_"
   ]
  },
  {
   "cell_type": "code",
   "execution_count": 39,
   "metadata": {
    "cell_style": "split"
   },
   "outputs": [
    {
     "name": "stdout",
     "output_type": "stream",
     "text": [
      "child has an attribute 'id_'\n",
      "because Mother.__init__ was called\n",
      "because Child does not have an __init__\n"
     ]
    }
   ],
   "source": [
    "class Mother:\n",
    "    def __init__(self, id_=1):\n",
    "        self.id_ = id_\n",
    "\n",
    "class Child(Mother):\n",
    "    pass\n",
    "\n",
    "child = Child()\n",
    "assert child.id_ == 1\n",
    "\n",
    "print(\"child has an attribute 'id_'\\n\"\n",
    "      \"because Mother.__init__ was called\\n\"\n",
    "      \"because Child does not have an __init__\")"
   ]
  },
  {
   "cell_type": "code",
   "execution_count": 40,
   "metadata": {
    "cell_style": "split"
   },
   "outputs": [
    {
     "name": "stdout",
     "output_type": "stream",
     "text": [
      "child has no attribute 'id_'\n",
      "because Mother.__init__ was not called\n",
      "because Child already has an __init__ (that does not call its super's)\n"
     ]
    }
   ],
   "source": [
    "class Mother:\n",
    "    def __init__(self, id_=1):\n",
    "        self.id_ = id_\n",
    "\n",
    "@dataclass\n",
    "class Child(Mother):\n",
    "    pass\n",
    "\n",
    "child = Child()\n",
    "try:\n",
    "    assert child.id_ == 1\n",
    "except AttributeError:\n",
    "    print(\"child has no attribute 'id_'\\n\"\n",
    "      \"because Mother.__init__ was not called\\n\"\n",
    "      \"because Child already has an __init__ (that does not call its super's)\")"
   ]
  },
  {
   "cell_type": "markdown",
   "metadata": {},
   "source": [
    "_How to make it work ?_"
   ]
  },
  {
   "cell_type": "code",
   "execution_count": 41,
   "metadata": {
    "cell_style": "center",
    "collapsed": true
   },
   "outputs": [],
   "source": [
    "@dataclass\n",
    "class Child(Mother):\n",
    "    def __post_init__(self):\n",
    "        super().__init__()  # Mother'__init__ explicitely called\n",
    "\n",
    "child = Child()\n",
    "assert child.id_ == 1"
   ]
  },
  {
   "cell_type": "markdown",
   "metadata": {
    "cell_style": "center"
   },
   "source": [
    "Conclusion\n",
    "- `@dataclass` adds an `__init__` method whether there are fields defined or not !\n",
    "- Advice: If you use `@dataclass`, use what it provides for free (i.e.: fields and `__init__`)"
   ]
  },
  {
   "cell_type": "markdown",
   "metadata": {},
   "source": [
    "[^ Go to the top!](#Table-of-Contents)"
   ]
  },
  {
   "cell_type": "markdown",
   "metadata": {},
   "source": [
    "## Summary"
   ]
  },
  {
   "cell_type": "markdown",
   "metadata": {},
   "source": [
    "Pros:\n",
    "- **Less verbose**: avoid setting all the attributes in \\__init\\__\n",
    "- **Prevent side-effects** at attribute initialization (at import time)\n",
    "    - raise ValueError when setting a mutable default (use default_factory for mutables)\n",
    "- **Can be used in sets** (very easy to make hashable)\n",
    "    - Setting `frozen=True` makes the fields immutable (similar to namedtuple)\n",
    "\n",
    "Cons:\n",
    "- Does not checks types natively but does used in conjunction with `Typing` module\n",
    "- Not JSON-serializable by default (need to be converted to dict first(with asdict))\n",
    "- Not possible to frozen only some fields"
   ]
  },
  {
   "cell_type": "markdown",
   "metadata": {},
   "source": [
    "Ressources:\n",
    "- [PEP 557, Dataclasses](https://www.python.org/dev/peps/pep-0557/), [PEP 484, Type Hints](https://www.python.org/dev/peps/pep-0484/)\n",
    "- Talks:\n",
    "    - PyParis 2018: Pierre Alexandre Schembri - Unexpected Dataclasses [Slides](http://pyparis.org/static/slides/Pierre%20Alexandre%20Schembri-9cc74f5a.pdf), [Video](https://www.youtube.com/watch?v=Npsovzwcd-w&list=PLzjFI0G5nSsry3cm_k1tPOi9SRaAXsZAt&index=6)\n",
    "    - PyCon 2018: Raymond Hettinger - Dataclasses: The code generator to end all code generators, [Video](https://www.youtube.com/watch?v=T-TwcmT6Rcw)"
   ]
  },
  {
   "cell_type": "markdown",
   "metadata": {},
   "source": [
    "[^ Go to the top!](#Table-of-Contents)"
   ]
  }
 ],
 "metadata": {
  "kernelspec": {
   "display_name": "py37",
   "language": "python",
   "name": "py37"
  },
  "language_info": {
   "codemirror_mode": {
    "name": "ipython",
    "version": 3
   },
   "file_extension": ".py",
   "mimetype": "text/x-python",
   "name": "python",
   "nbconvert_exporter": "python",
   "pygments_lexer": "ipython3",
   "version": "3.7.1"
  },
  "toc": {
   "nav_menu": {},
   "number_sections": true,
   "sideBar": true,
   "skip_h1_title": true,
   "title_cell": "Table of Contents",
   "title_sidebar": "Contents",
   "toc_cell": true,
   "toc_position": {
    "height": "calc(100% - 180px)",
    "left": "10px",
    "top": "150px",
    "width": "298px"
   },
   "toc_section_display": true,
   "toc_window_display": true
  }
 },
 "nbformat": 4,
 "nbformat_minor": 2
}
